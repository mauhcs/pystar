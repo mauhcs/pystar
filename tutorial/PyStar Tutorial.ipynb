{
 "cells": [
  {
   "cell_type": "code",
   "execution_count": null,
   "metadata": {
    "ExecuteTime": {
     "end_time": "2021-01-10T08:01:38.000315Z",
     "start_time": "2021-01-10T08:01:37.959064Z"
    }
   },
   "outputs": [],
   "source": [
    "from IPython.core.display import display, HTML\n",
    "display(HTML(\"<style>.container { width:90% !important; }</style>\"))"
   ]
  },
  {
   "cell_type": "code",
   "execution_count": null,
   "metadata": {
    "ExecuteTime": {
     "end_time": "2021-01-13T14:24:14.149508Z",
     "start_time": "2021-01-13T14:24:12.499805Z"
    }
   },
   "outputs": [],
   "source": [
    "# pseudo install pystart module\n",
    "import sys\n",
    "import pathlib \n",
    "sys.path.append(f\"{pathlib.Path.home()}/Projects/\")\n",
    "\n",
    "# import pystart module\n",
    "import pystar.pyplot as pltAR\n",
    "from pystar.pyplot.arcolors import ARColor\n",
    "import numpy as np"
   ]
  },
  {
   "cell_type": "code",
   "execution_count": null,
   "metadata": {
    "ExecuteTime": {
     "end_time": "2021-01-13T14:24:15.114834Z",
     "start_time": "2021-01-13T14:24:14.583346Z"
    }
   },
   "outputs": [],
   "source": [
    "ws = pltAR.workspace(wsID=\"simpleSceneTutotial\", \n",
    "                     name=\"Simple Scene Tutorial\", \n",
    "                     description=\"Plot one graph just in front of the phone\", \n",
    "                     force_creation=True)\n"
   ]
  },
  {
   "cell_type": "code",
   "execution_count": null,
   "metadata": {
    "ExecuteTime": {
     "end_time": "2021-01-11T12:56:09.365882Z",
     "start_time": "2021-01-11T12:56:08.193592Z"
    }
   },
   "outputs": [],
   "source": [
    "scene = pltAR.scene(layout_template=\"simple\", scene_size=(3,3,3))\n",
    "\n",
    "t = np.linspace(0,np.pi, 100)\n",
    "X = np.sin(t)\n",
    "Y = np.cos(t)\n",
    "Z = [0 for _ in t]\n",
    "\n",
    "pltAR.scatter(X,Y,Z, mark=\"ball\", size=0.2, color=\"purple\")\n",
    "pltAR.scatter(X,Y,[1 for _ in t], mark=\"ball\", size=0.2, color=ARColor(\"pink\", metal=1, rough=0) )\n",
    "pltAR.scatter(X,Y,[2 for _ in t], mark=\"ball\", size=0.2, color=ARColor(\"blue\", metal=1, rough=0) )\n",
    "pltAR.scatter(X,Y,[3 for _ in t], mark=\"ball\", size=0.2, color=ARColor(\"green\", metal=1, rough=0) )\n",
    "pltAR.scatter(X,Y,[4 for _ in t], mark=\"ball\", size=0.2, color=ARColor(None, metal=1, rough=0) )\n",
    "pltAR.scatter(X,Y,[5 for _ in t], mark=\"box\", size=0.1, color=ARColor(\"red\", metal=1, rough=0.1) )\n",
    "pltAR.scatter(X,Y,[6 for _ in t], mark=\"box\", size=0.1, color=ARColor(\"green\", metal=1, rough=0.1) )\n",
    "\n",
    "pltAR.design()\n"
   ]
  },
  {
   "cell_type": "code",
   "execution_count": null,
   "metadata": {
    "ExecuteTime": {
     "end_time": "2021-01-13T14:24:18.681258Z",
     "start_time": "2021-01-13T14:24:18.289567Z"
    }
   },
   "outputs": [],
   "source": [
    "scene = pltAR.scene(layout_template=\"simple\", scene_size=(3,3,3))\n",
    "t = np.linspace(0,2*np.pi, 100)\n",
    "X = np.sin(t)\n",
    "Y = np.cos(t)\n",
    "\n",
    "for z in range(1,20):\n",
    "  pltAR.scatter(X,Y,[z for _ in t], size=0.1, mark=\"box\", color=ARColor(None, metal=z/10, rough=0) )\n",
    "\n",
    "pltAR.design()\n"
   ]
  }
 ],
 "metadata": {
  "kernelspec": {
   "display_name": "Python 3",
   "language": "python",
   "name": "python3"
  },
  "language_info": {
   "codemirror_mode": {
    "name": "ipython",
    "version": 3
   },
   "file_extension": ".py",
   "mimetype": "text/x-python",
   "name": "python",
   "nbconvert_exporter": "python",
   "pygments_lexer": "ipython3",
   "version": "3.7.6"
  }
 },
 "nbformat": 4,
 "nbformat_minor": 4
}