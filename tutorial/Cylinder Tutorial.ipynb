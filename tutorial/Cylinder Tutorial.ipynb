{
 "cells": [
  {
   "cell_type": "code",
   "execution_count": 2,
   "metadata": {
    "ExecuteTime": {
     "end_time": "2021-01-13T13:48:19.347599Z",
     "start_time": "2021-01-13T13:48:19.318342Z"
    }
   },
   "outputs": [
    {
     "data": {
      "text/html": [
       "<style>.container { width:90% !important; }</style>"
      ],
      "text/plain": [
       "<IPython.core.display.HTML object>"
      ]
     },
     "metadata": {},
     "output_type": "display_data"
    }
   ],
   "source": [
    "from IPython.core.display import display, HTML\n",
    "display(HTML(\"<style>.container { width:90% !important; }</style>\"))"
   ]
  },
  {
   "cell_type": "code",
   "execution_count": 3,
   "metadata": {
    "ExecuteTime": {
     "end_time": "2021-01-13T14:51:22.956819Z",
     "start_time": "2021-01-13T14:51:21.760244Z"
    }
   },
   "outputs": [],
   "source": [
    "%load_ext autoreload\n",
    "%autoreload 2\n",
    "\n",
    "# pseudo install pystart module\n",
    "import sys\n",
    "import pathlib \n",
    "sys.path.append(f\"{pathlib.Path.home()}/Projects/\")\n",
    "\n"
   ]
  },
  {
   "cell_type": "markdown",
   "metadata": {},
   "source": [
    "# Parametrization\n",
    "\n",
    "Let the catenoid be given by the following parametrization:\n",
    "\n",
    "$$C: (-\\pi, \\pi)\\times(-\\infty, \\infty) \\to \\mathbb{R}^3$$\n",
    "\n",
    "$$C(u,v) = \\begin{pmatrix} -cosh(v)\\cdot cos(u)\\\\ -cosh(v)\\cdot sin(u)\\\\ -v \\end{pmatrix} $$\n",
    "\n",
    "Let the helicoid be given by the following parametrizaation:\n",
    "\n",
    "$$H: (-\\pi, \\pi)\\times(-\\infty, \\infty) \\to \\mathbb{R}^3$$\n",
    "\n",
    "$$H(u,v) = \\begin{pmatrix} sinh(v)\\cdot sin(u)\\\\ -sinh(v)\\cdot cos(u)\\\\ u \\end{pmatrix} $$\n",
    "\n",
    "See the gif above for a an image of the helicoid and catenoid in $\\mathbb{R}^3$.\n",
    "\n",
    "Now we proceed in showing that the two surfaces have the same first fundamental form. "
   ]
  },
  {
   "cell_type": "markdown",
   "metadata": {},
   "source": [
    "## First Fundamental Form\n",
    "\n",
    "The first fundamental form of a surface is defined as the (dot) product of two tangent tangent vectors (tangent to the surface). But the definition we will be using is given by the following algebraic expression:\n",
    "\n",
    "$$g =  \\begin{pmatrix}\n",
    "\\frac{df}{du}\\cdot \\frac{df}{du} & \\frac{df}{du}\\cdot \\frac{df}{dv} \\\\\n",
    "\\frac{df}{dv}\\cdot \\frac{df}{dv} & \\frac{df}{dv}\\cdot \\frac{df}{dv} \n",
    "\\end{pmatrix} $$ \n",
    "\n",
    "Which is traditionally denoted as \n",
    "\n",
    "$$g =  \\begin{pmatrix}\n",
    "E & F \\\\\n",
    "F & G \n",
    "\\end{pmatrix} $$ \n",
    "\n",
    "\n",
    "where df/du is the derivative of the parametriation f with restect to u. \n",
    "\n",
    "Let's calculate the catenoid's first fundamental form:\n",
    "\n",
    "$\\frac{dC}{du} = \\begin{pmatrix} cosh(v)\\cdot sin(u)\\\\ -cosh(v)\\cdot cos(u)\\\\ 0 \\end{pmatrix}$\n",
    "\n",
    "$\\frac{dC}{dv} = \\begin{pmatrix} -sinh(v)\\cdot cos(u)\\\\ -sinh(v)\\cdot sin(u)\\\\ -1 \\end{pmatrix}$\n",
    "\n",
    "$E = \\frac{dC}{du} \\cdot \\frac{dC}{du} = cosh^2(v) = sinh^2(v) +1 $\n",
    "\n",
    "$F = \\frac{dC}{du} \\cdot \\frac{dC}{dv} = 0$\n",
    "\n",
    "$G = \\frac{dC}{dv} \\cdot \\frac{dC}{dv} = sinh^2(v) + 1 = cosh^2(v)$\n",
    "\n",
    "Hence, the catenoid's first fundamental form is given by :\n",
    "\n",
    "$$g =  \\begin{pmatrix}\n",
    "sinh^2(v) +1  & 0 \\\\\n",
    "0 & cosh^2(v) \n",
    "\\end{pmatrix} $$ \n",
    "\n",
    "Now, let's calculate the helicoid's first fundamental form:\n",
    "\n",
    "$\\frac{dH}{du} = \\begin{pmatrix} sinh(v)\\cdot cos(u)\\\\ sinh(v)\\cdot cos(u)\\\\ 1 \\end{pmatrix}$\n",
    "\n",
    "$\\frac{dH}{dv} = \\begin{pmatrix} cosh(v)\\cdot sin(u)\\\\ -cosh(v)\\cdot cos(u)\\\\ 0 \\end{pmatrix}$\n",
    "\n",
    "$E = \\frac{dH}{du} \\cdot \\frac{dH}{du} = sinh^2(v) +1 $\n",
    "\n",
    "$F = \\frac{dH}{du} \\cdot \\frac{dH}{dv} = 0$\n",
    "\n",
    "$G = \\frac{dH}{dv} \\cdot \\frac{dH}{dv} = cosh^2(v)$\n",
    "\n",
    "Hence, the helicoid's first fundamental form is given by :\n",
    "\n",
    "$$g =  \\begin{pmatrix}\n",
    "sinh^2(v) +1  & 0 \\\\\n",
    "0 & cosh^2(v) \n",
    "\\end{pmatrix} $$ \n",
    "\n",
    "Which proves that the catenoid and the helicoid are isometric. \n",
    "\n",
    "Next we will plot the catenoid, the helicoid and the intermediary steps if we were to isometrically reshape one into the other"
   ]
  },
  {
   "cell_type": "markdown",
   "metadata": {},
   "source": [
    "# The power of PyStar: Ploting the isometry in the space"
   ]
  },
  {
   "cell_type": "markdown",
   "metadata": {},
   "source": [
    "First we will use the following parametrization for the catenoid, the helicoid and the isometry between them:\n",
    "\n",
    "\n",
    "\n",
    "$$f: (-\\pi, \\pi)\\times(-\\infty, \\infty)\\times (-\\frac{\\pi}{2}, 0) \\to \\mathbb{R}^3 $$\n",
    "\n",
    "$$f(u, v, \\theta) = \\begin{pmatrix}\n",
    "cos(\\theta) \\cdot sinh(v) \\cdot sin(u) + sin(\\theta) * cosh(v) \\cdot cos(u)\\\\\n",
    "-cos(\\theta) \\cdot sinh(v) \\cdot cos(u) + sin(\\theta) \\cdot cosh(v) \\cdot sin(u) \\\\\n",
    "u\\cdot cos(\\theta) +v sin(\\theta)\n",
    "\\end{pmatrix}  $$\n",
    "\n",
    "\n",
    "To see that f takes the catenoid to the helicoid note that: \n",
    "$f(u,v,-\\frac{\\pi}{2} ) = C(u,v)$ and $f(u,v, 0) = H(u, v)$.\n",
    "\n",
    "\n",
    "Let's plot $f$ using python.\n"
   ]
  },
  {
   "cell_type": "code",
   "execution_count": 11,
   "metadata": {
    "ExecuteTime": {
     "end_time": "2021-01-17T07:40:58.327216Z",
     "start_time": "2021-01-17T07:40:57.069895Z"
    }
   },
   "outputs": [],
   "source": [
    "# import pystart module\n",
    "import pystar.pyplot as pltAR\n",
    "from pystar.pyplot.arcolors import ARColor\n",
    "import numpy as np"
   ]
  },
  {
   "cell_type": "code",
   "execution_count": 12,
   "metadata": {},
   "outputs": [],
   "source": [
    "# Define f below:\n",
    "\n",
    "def f(u,v, theta):\n",
    "  x = np.cos(theta) * np.sinh(v) * np.sin(u) + np.sin(theta) * np.cosh(v) * np.cos(u)\n",
    "  y = -np.cos(theta) * np.sinh(v) * np.cos(u) + np.sin(theta) * np.cosh(v) * np.sin(u)\n",
    "  z = u*np.cos(theta) + v*np.sin(theta)\n",
    "  return x, y, z"
   ]
  },
  {
   "cell_type": "code",
   "execution_count": 13,
   "metadata": {},
   "outputs": [],
   "source": [
    "# Define in which workspace to plot work on.\n",
    "ws = pltAR.workspace(wsID=\"geoDiff\", \n",
    "                     name=\"Differential Geometry\", \n",
    "                     description=\"Isometry between catenoid and helicoid\", \n",
    "                     force_creation=True)"
   ]
  },
  {
   "cell_type": "code",
   "execution_count": 14,
   "metadata": {
    "ExecuteTime": {
     "end_time": "2021-01-17T07:42:48.675045Z",
     "start_time": "2021-01-17T07:42:45.423558Z"
    }
   },
   "outputs": [
    {
     "name": "stdout",
     "output_type": "stream",
     "text": [
      "Done Uploading DS1 to geoDiff\n",
      "Done Uploading DS2 to geoDiff\n",
      "Done Uploading DS3 to geoDiff\n",
      "Done Uploading DS4 to geoDiff\n",
      "Done Uploading DS5 to geoDiff\n",
      "Done Uploading DS6 to geoDiff\n",
      "Done Uploading DS7 to geoDiff\n",
      "Done Uploading DS8 to geoDiff\n"
     ]
    }
   ],
   "source": [
    "scene = pltAR.scene(layout_template=\"cilinder\", height=0.5, radius=3, columns=8, foot_height=-0.7, rows=1)\n",
    "COLORS = [\"blue\", \"green\", \"red\", \"pink\", \"purple\", \"cyan\", \"white\", \"orange\"]\n",
    "\n",
    "t = np.linspace(-np.pi, np.pi, 25)\n",
    "v = np.linspace(-1.5, 1.5, 20) # −∞<𝑣<∞\n",
    "theta = np.linspace(-np.pi/2,0, len(scene.axs))\n",
    "\n",
    "I = 0\n",
    "for i in range(len(scene.axs)):  \n",
    "  ax = scene.axs[i]\n",
    "  X,Y,Z = [], [], []\n",
    "  for a in t:\n",
    "    for b in v:\n",
    "      x,z,y = f(a,b, theta[i])\n",
    "      X.append(x)\n",
    "      Y.append(y)\n",
    "      Z.append(z)\n",
    "  pltAR.scatter(X,Y,Z, size=0.03/16, ax=ax, color=ARColor(COLORS[I%len(COLORS)], metal=0.8, rough=0.3), mark=\"ball\")\n",
    "  I+=1\n",
    "\n",
    "    \n",
    "pltAR.design()"
   ]
  },
  {
   "cell_type": "code",
   "execution_count": null,
   "metadata": {},
   "outputs": [],
   "source": []
  }
 ],
 "metadata": {
  "kernelspec": {
   "display_name": "Python 3",
   "language": "python",
   "name": "python3"
  },
  "language_info": {
   "codemirror_mode": {
    "name": "ipython",
    "version": 3
   },
   "file_extension": ".py",
   "mimetype": "text/x-python",
   "name": "python",
   "nbconvert_exporter": "python",
   "pygments_lexer": "ipython3",
   "version": "3.8.5"
  }
 },
 "nbformat": 4,
 "nbformat_minor": 4
}
